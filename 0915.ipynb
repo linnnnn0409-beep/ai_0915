{
  "nbformat": 4,
  "nbformat_minor": 0,
  "metadata": {
    "colab": {
      "provenance": [],
      "authorship_tag": "ABX9TyNKNRC4FSoW5CzoZFJFr9lJ",
      "include_colab_link": true
    },
    "kernelspec": {
      "name": "python3",
      "display_name": "Python 3"
    },
    "language_info": {
      "name": "python"
    }
  },
  "cells": [
    {
      "cell_type": "markdown",
      "metadata": {
        "id": "view-in-github",
        "colab_type": "text"
      },
      "source": [
        "<a href=\"https://colab.research.google.com/github/linnnnn0409-beep/ai_0915/blob/main/0915.ipynb\" target=\"_parent\"><img src=\"https://colab.research.google.com/assets/colab-badge.svg\" alt=\"Open In Colab\"/></a>"
      ]
    },
    {
      "cell_type": "code",
      "execution_count": 7,
      "metadata": {
        "colab": {
          "base_uri": "https://localhost:8080/"
        },
        "id": "fMw10c4SUClp",
        "outputId": "8422ea37-879f-4e83-8cf9-942b553536f9"
      },
      "outputs": [
        {
          "output_type": "stream",
          "name": "stdout",
          "text": [
            "11152129hello python\n"
          ]
        }
      ],
      "source": [
        "i=\"11152129\"\n",
        "j=\"hello python\"\n",
        "print(i+j)"
      ]
    }
  ]
}