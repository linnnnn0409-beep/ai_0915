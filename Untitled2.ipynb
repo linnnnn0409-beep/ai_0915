{
  "nbformat": 4,
  "nbformat_minor": 0,
  "metadata": {
    "colab": {
      "provenance": [],
      "authorship_tag": "ABX9TyMqQXIy2VwW3Gn0DAn6gpl0",
      "include_colab_link": true
    },
    "kernelspec": {
      "name": "python3",
      "display_name": "Python 3"
    },
    "language_info": {
      "name": "python"
    }
  },
  "cells": [
    {
      "cell_type": "markdown",
      "metadata": {
        "id": "view-in-github",
        "colab_type": "text"
      },
      "source": [
        "<a href=\"https://colab.research.google.com/github/linnnnn0409-beep/ai_0915/blob/main/Untitled2.ipynb\" target=\"_parent\"><img src=\"https://colab.research.google.com/assets/colab-badge.svg\" alt=\"Open In Colab\"/></a>"
      ]
    },
    {
      "cell_type": "code",
      "execution_count": 1,
      "metadata": {
        "colab": {
          "base_uri": "https://localhost:8080/"
        },
        "id": "q1aPOwbqiKe_",
        "outputId": "5997f1e5-e662-4f25-e029-403c113af155"
      },
      "outputs": [
        {
          "output_type": "stream",
          "name": "stdout",
          "text": [
            "請輸入要計算的數字：6\n",
            "這是加5後的答案 11\n",
            "這是輸入的資料型別: <class 'int'>\n"
          ]
        }
      ],
      "source": [
        "a = input('請輸入要計算的數字：')  # 使用 input() 函數提示用戶輸入數字，並將輸入的內容賦值給變數 a。需要注意的是，input() 函數返回的是字串類型。\n",
        "a = int(a) + 5  # 將字串類型的 a 轉換為整數類型，然後加上 5，最後將結果重新賦值給 a。\n",
        "print('這是加5後的答案', a)  # 使用 print() 函數輸出加 5 後的結果。\n",
        "print('這是輸入的資料型別:', type(a))  # 使用 type() 函數獲取變數 a 的資料型別，並使用 print() 函數輸出。"
      ]
    }
  ]
}